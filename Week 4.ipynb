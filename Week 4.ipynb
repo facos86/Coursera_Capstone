{
 "cells": [
  {
   "cell_type": "markdown",
   "metadata": {
    "collapsed": true
   },
   "source": [
    "## Week 4 : Captstone"
   ]
  },
  {
   "cell_type": "markdown",
   "metadata": {},
   "source": [
    "## Introduction"
   ]
  },
  {
   "cell_type": "markdown",
   "metadata": {},
   "source": [
    "I will formulate the problem like this : \"What could be a good place to start a new restaurant in Toronto ?\". \n",
    "A restaurant company, AwesomeRestaurant&Co, wants to open a bussiness in Toronto. \n",
    "The company should answer to those question before : What are the competition in the districts of Toronto ? Is it strong ? How many restaurants are they in the central district ? What could be a good place to start ?"
   ]
  },
  {
   "cell_type": "markdown",
   "metadata": {},
   "source": [
    "## Data"
   ]
  },
  {
   "cell_type": "markdown",
   "metadata": {},
   "source": [
    "Methodology :\n",
    "- Identifies the restaurants and place them on a map\n",
    "- Create several \"clusters\" of these restaurants to identify potential districts for AwesomeRestaurant&Co to choose from. AwesomeRestaurant&Co should choose one from these business district and locate its restaurant in the center of it.\n",
    "\n",
    "\n",
    "We will query the foursquare api to get all the restaurant venues in Toronto. We are interested in groups.items.categories, groups.items.venue.name, group.items.venue.location. "
   ]
  },
  {
   "cell_type": "markdown",
   "metadata": {},
   "source": [
    "We will map the successful restaurants in Toronto and clustered them.\n",
    "The intended location is the geographic average of the location of the currently successful restaurants."
   ]
  },
  {
   "cell_type": "code",
   "execution_count": null,
   "metadata": {},
   "outputs": [],
   "source": []
  }
 ],
 "metadata": {
  "kernelspec": {
   "display_name": "Python 3.6",
   "language": "python",
   "name": "python3"
  },
  "language_info": {
   "codemirror_mode": {
    "name": "ipython",
    "version": 3
   },
   "file_extension": ".py",
   "mimetype": "text/x-python",
   "name": "python",
   "nbconvert_exporter": "python",
   "pygments_lexer": "ipython3",
   "version": "3.6.8"
  }
 },
 "nbformat": 4,
 "nbformat_minor": 1
}
